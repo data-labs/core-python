{
 "cells": [
  {
   "cell_type": "markdown",
   "metadata": {},
   "source": [
    "# 파이썬 특징\n",
    "- 문법이 간결하며 직관적으로 코딩할 수 있다\n",
    "\n",
    "## 파이선 실행 환경 \n",
    "- 자신의 PC에 아나콘다(anaconda)를 설치한 후 jupyter notebook 실행\n",
    "- 구글 클라우드 colab 사용\n",
    " - 구글 계정이 있어야 하며 크롬 브라우저로 접속"
   ]
  },
  {
   "cell_type": "markdown",
   "metadata": {},
   "source": [
    "# 연습\n",
    "## 작은제목\n",
    "### 더 작은 제목\n",
    "- 내용추가\n",
    "- 작성중\n",
    " - 들여쓰기\n",
    " > 세부 내용\n",
    " > 세부 내용"
   ]
  },
  {
   "cell_type": "code",
   "execution_count": null,
   "metadata": {},
   "outputs": [],
   "source": [
    "x = 3\n",
    "x"
   ]
  },
  {
   "cell_type": "code",
   "execution_count": null,
   "metadata": {},
   "outputs": [],
   "source": [
    "y = 5\n",
    "x + y"
   ]
  },
  {
   "cell_type": "markdown",
   "metadata": {
    "colab_type": "text",
    "id": "fjkX2ae7Kaoa"
   },
   "source": [
    "# 쥬피터 노트북 사용법\n",
    "- 각 셀은 프로그램 코드 또는 문서(마크업 문서) 중 하나로 사용된다\n",
    "- 셀을 Ctrl + Enter로 실행하면 셀 실행 후 커서가 현재의 셀에 남아 있는다\n",
    "- 셀을 Shift + Enter 로 실행하면 셀 실행 후 **커서가 다음 셀로 이동**\n",
    "\n",
    "## 주요 단축키\n",
    "- h  : help\n",
    "- a  : 현재 셀 위에 셀 추가 (above)\n",
    "- b  : 현재 셀 아래에 셀 추가 (below)\n",
    "- x  : 현재 셀 삭제 (delete)\n",
    "- m  : 문서용 셀로 전환 (mark up)\n",
    "- y  : 코드용 셀로 전환\n",
    "- o  : 출력 보이기/안보이기 토글 (output)\n",
    "-  아래 셀과 합치기 shift + m (merge)\n",
    "-  셀을 둘로 나누기 ctrl + shift + '-'\n",
    "\n",
    "### (참고) 코랩에서는 명령어 앞에 (ctrl + m)  추가"
   ]
  },
  {
   "cell_type": "code",
   "execution_count": null,
   "metadata": {},
   "outputs": [],
   "source": []
  }
 ],
 "metadata": {
  "colab": {
   "collapsed_sections": [
    "v_cZd_gQfMqh",
    "yynomsnffMqr",
    "zd5EnJeQfMrE"
   ],
   "name": "g_01_파이선기초.ipynb",
   "provenance": []
  },
  "kernelspec": {
   "display_name": "Python 3",
   "language": "python",
   "name": "python3"
  },
  "language_info": {
   "codemirror_mode": {
    "name": "ipython",
    "version": 3
   },
   "file_extension": ".py",
   "mimetype": "text/x-python",
   "name": "python",
   "nbconvert_exporter": "python",
   "pygments_lexer": "ipython3",
   "version": "3.7.6"
  },
  "toc": {
   "base_numbering": 1,
   "nav_menu": {},
   "number_sections": false,
   "sideBar": true,
   "skip_h1_title": false,
   "title_cell": "Table of Contents",
   "title_sidebar": "Contents",
   "toc_cell": false,
   "toc_position": {
    "height": "calc(100% - 180px)",
    "left": "10px",
    "top": "150px",
    "width": "174px"
   },
   "toc_section_display": true,
   "toc_window_display": false
  }
 },
 "nbformat": 4,
 "nbformat_minor": 1
}
